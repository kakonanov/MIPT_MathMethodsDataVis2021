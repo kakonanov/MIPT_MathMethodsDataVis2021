{
  "nbformat": 4,
  "nbformat_minor": 0,
  "metadata": {
    "colab": {
      "name": "Task3.ipynb",
      "provenance": []
    },
    "kernelspec": {
      "name": "python3",
      "display_name": "Python 3"
    },
    "language_info": {
      "name": "python"
    }
  },
  "cells": [
    {
      "cell_type": "markdown",
      "metadata": {
        "id": "o8Apn3PzavST"
      },
      "source": [
        "Домашнее задание №3\n",
        "\n",
        "Автор: Конанов Кирилл М05-012б\n",
        "\n",
        "Расположение подписей\n",
        "\n",
        "В решении использован библиотечный SAT-solver, и соответсвенно нет ограничений на количество вариантов размещения подписи"
      ]
    },
    {
      "cell_type": "code",
      "metadata": {
        "id": "rpbdwIP_upLl",
        "colab": {
          "base_uri": "https://localhost:8080/"
        },
        "outputId": "36df98ca-0a19-4883-9340-6ead0e79e0b3"
      },
      "source": [
        "! git clone https://github.com/kakonanov/MIPT_MathMethodsDataVis2021.git"
      ],
      "execution_count": null,
      "outputs": [
        {
          "output_type": "stream",
          "text": [
            "Cloning into 'MIPT_MathMethodsDataVis2021'...\n",
            "remote: Enumerating objects: 34, done.\u001b[K\n",
            "remote: Counting objects: 100% (34/34), done.\u001b[K\n",
            "remote: Compressing objects: 100% (25/25), done.\u001b[K\n",
            "remote: Total 34 (delta 4), reused 24 (delta 2), pack-reused 0\u001b[K\n",
            "Unpacking objects: 100% (34/34), done.\n"
          ],
          "name": "stdout"
        }
      ]
    },
    {
      "cell_type": "code",
      "metadata": {
        "colab": {
          "base_uri": "https://localhost:8080/"
        },
        "id": "yc6A9ZVqN4Bq",
        "outputId": "2d807567-9ef1-4720-a23f-1fbafb7fbe79"
      },
      "source": [
        "!pip install python-constraint"
      ],
      "execution_count": null,
      "outputs": [
        {
          "output_type": "stream",
          "text": [
            "Collecting python-constraint\n",
            "  Downloading https://files.pythonhosted.org/packages/37/8b/5f1bc2734ca611943e1d6733ee244238679f6410a10cd45ede55a61a8402/python-constraint-1.4.0.tar.bz2\n",
            "Building wheels for collected packages: python-constraint\n",
            "  Building wheel for python-constraint (setup.py) ... \u001b[?25l\u001b[?25hdone\n",
            "  Created wheel for python-constraint: filename=python_constraint-1.4.0-py2.py3-none-any.whl size=24079 sha256=7f93437b7f8bd7859bf277b3d144e3d6529a3799d9608de544364dfd7b435f35\n",
            "  Stored in directory: /root/.cache/pip/wheels/34/31/15/7b070b25d0a549d20ce2e9fe6d727471c2c61ef904720fd40c\n",
            "Successfully built python-constraint\n",
            "Installing collected packages: python-constraint\n",
            "Successfully installed python-constraint-1.4.0\n"
          ],
          "name": "stdout"
        }
      ]
    },
    {
      "cell_type": "code",
      "metadata": {
        "id": "Gr1nhjznpLoF"
      },
      "source": [
        "import numpy as np\n",
        "import networkx as nx\n",
        "import matplotlib.pyplot as plt\n",
        "import matplotlib.patches as patches\n",
        "from matplotlib.patches import Rectangle\n",
        "import sys\n",
        "import itertools\n",
        "from shapely.geometry import Polygon\n",
        "from constraint import *\n"
      ],
      "execution_count": null,
      "outputs": []
    },
    {
      "cell_type": "markdown",
      "metadata": {
        "id": "jrSiGcuuDBM6"
      },
      "source": [
        "Класс Box\n",
        "\n",
        "Created by Игорь Дьяченко\n",
        "\n",
        "Выражаю благодарность за предоставленние этого класса и данные!"
      ]
    },
    {
      "cell_type": "code",
      "metadata": {
        "id": "IgI9PhysKsKs"
      },
      "source": [
        "def parse(line):\n",
        "  arr = [int(a) for a in line.split(',')]\n",
        "  return (arr[0], arr[1])\n",
        "\n",
        "class Box:\n",
        "    def __init__(self, line):\n",
        "      arr = line.split('\\t')\n",
        "      self.name = \"\"\n",
        "      self.pos = parse(arr[0])\n",
        "      self.size = parse(arr[1])\n",
        "      self.offsets = [parse(offset) for offset in arr[2].split(' ')]\n",
        "    \n",
        "    def __str__(self):\n",
        "      return 'Box(pos={}, size={}, offsets={})'.format(self.pos, self.size, self.offsets)\n",
        "    \n",
        "    def __repr__(self):\n",
        "      return str(self)"
      ],
      "execution_count": null,
      "outputs": []
    },
    {
      "cell_type": "code",
      "metadata": {
        "id": "mY0YYlESPzxE"
      },
      "source": [
        "file = open('/content/MIPT_MathMethodsDataVis2021/task3/hard2.txt').read()\n",
        "boxes = [Box(line) for line in file.strip().split('\\n')]"
      ],
      "execution_count": null,
      "outputs": []
    },
    {
      "cell_type": "code",
      "metadata": {
        "id": "uJsvwtD3a0aC"
      },
      "source": [
        "box_by_name = dict()\n",
        "for i, box in  enumerate(boxes):\n",
        "  box.name = 'b' + str(i)\n",
        "  box_by_name[box.name] = box"
      ],
      "execution_count": null,
      "outputs": []
    },
    {
      "cell_type": "code",
      "metadata": {
        "id": "-p4XQ9N3fEK6"
      },
      "source": [
        "def ordered(arr):\n",
        "  res = [arr[0]]\n",
        "  s = set((1,2,3))\n",
        "  prev = arr[0]\n",
        "  for j in range(3):\n",
        "    for i in s:\n",
        "      elem = arr[i]\n",
        "      if (prev[0] in elem or prev[1] in elem):\n",
        "        prev = elem\n",
        "        res += [elem]\n",
        "        s.remove(i)\n",
        "        break;\n",
        "  return res\n",
        "\n",
        "def get_coordinates(pos, size, offset):\n",
        "  arr = np.array([pos]*4)\n",
        "  offset_ =  np.array([offset]*4)\n",
        "  bounds = np.array([(0, 0), (size[0], 0), (0, size[1]), (size[0], size[1])])\n",
        "  res = arr + bounds - offset_\n",
        "  return ordered(res)\n",
        "\n",
        "\n",
        "def is_intersects(first, second):\n",
        "  p = Polygon(first)\n",
        "  q = Polygon(second)\n",
        "  return p.intersects(q)\n"
      ],
      "execution_count": null,
      "outputs": []
    },
    {
      "cell_type": "code",
      "metadata": {
        "id": "aO1_VrOabJRg"
      },
      "source": [
        "class BoxesInter:\n",
        "    def __init__(self, box_one, box_two):\n",
        "      self.box_one = box_one\n",
        "      self.box_two = box_two\n",
        "      self.s = []\n",
        "      self.indexes = []\n",
        "    \n",
        "    def __str__(self):\n",
        "      return 'BoxesInter(box_one={}, box_two={}, s={}, indexes={})'.format(self.box_one, self.box_two, self.s, self.indexes)\n",
        "\n",
        "    def add_offsets_indexes(self, offset_index_first, offset_index_second):\n",
        "      self.indexes += [((offset_index_first, offset_index_second))]\n",
        "\n",
        "    def __repr__(self):\n",
        "      return str(self)"
      ],
      "execution_count": null,
      "outputs": []
    },
    {
      "cell_type": "code",
      "metadata": {
        "id": "W6vkjzfKY41g"
      },
      "source": [
        "def get_mapa(boxes):\n",
        "  mapa = dict()\n",
        "\n",
        "  for (box_one, box_two) in itertools.combinations(boxes, 2):\n",
        "    for ind_first, offset_first in enumerate(box_one.offsets):\n",
        "      for ind_second, offset_second in enumerate(box_two.offsets):\n",
        "        if is_intersects(\n",
        "            get_coordinates(box_one.pos, box_one.size, offset_first),\n",
        "            get_coordinates(box_two.pos, box_two.size, offset_second)\n",
        "        ):\n",
        "          if (box_one.pos, box_two.pos) not in mapa:\n",
        "            mapa[box_one.pos, box_two.pos] = BoxesInter(box_one, box_two)\n",
        "          mapa[box_one.pos, box_two.pos].add_offsets_indexes(ind_first, ind_second)\n",
        "  return mapa\n",
        "\n",
        "def get_lambda(indexes):\n",
        "  return lambda a, b: (a, b) not in indexes"
      ],
      "execution_count": null,
      "outputs": []
    },
    {
      "cell_type": "code",
      "metadata": {
        "id": "fTsumGWrW44_"
      },
      "source": [
        "problem = Problem()\n",
        "for box in boxes:\n",
        "  problem.addVariable(box.name, range(len(box.offsets)))\n",
        "\n",
        "mapa = get_mapa(boxes)\n",
        "for v in mapa.values():\n",
        "  x1 = v.box_one.name\n",
        "  x2 = v.box_two.name\n",
        "  problem.addConstraint(get_lambda(v.indexes), [x1, x2])"
      ],
      "execution_count": null,
      "outputs": []
    },
    {
      "cell_type": "code",
      "metadata": {
        "id": "ZL00lsz7QZk3"
      },
      "source": [
        "def draw_solution(solution, boxes):\n",
        "  figure, ax = plt.subplots()\n",
        "  figure.set_figheight(12)\n",
        "  figure.set_figwidth(12)\n",
        "  for box in boxes:\n",
        "    point = (box.pos[0] - box.offsets[solution[box.name]][0],\n",
        "             box.pos[1] - box.offsets[solution[box.name]][1])\n",
        "    ax.scatter(box.pos[0], box.pos[1], s=20, c = 'b')\n",
        "    ax.add_patch(Rectangle(point, box.size[0], box.size[1], edgecolor='black', facecolor='none'))\n",
        "  plt.show()"
      ],
      "execution_count": null,
      "outputs": []
    },
    {
      "cell_type": "code",
      "metadata": {
        "colab": {
          "base_uri": "https://localhost:8080/",
          "height": 700
        },
        "id": "zNKRstM-NNN9",
        "outputId": "67523d90-9962-48d4-99a0-c952bce6c3a9"
      },
      "source": [
        "solution = problem.getSolution()\n",
        "draw_solution(solution, boxes)"
      ],
      "execution_count": null,
      "outputs": [
        {
          "output_type": "display_data",
          "data": {
            "image/png": "[encoded data removed]",
            "text/plain": [
              "<Figure size 864x864 with 1 Axes>"
            ]
          },
          "metadata": {
            "tags": [],
            "needs_background": "light"
          }
        }
      ]
    }
  ]
}